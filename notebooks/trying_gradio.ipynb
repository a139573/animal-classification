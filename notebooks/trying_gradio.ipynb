{
 "cells": [
  {
   "cell_type": "code",
   "execution_count": null,
   "id": "9807932e-e229-4b75-88fa-5ff3462de1cc",
   "metadata": {},
   "outputs": [],
   "source": [
    "!pip install gradio"
   ]
  },
  {
   "cell_type": "code",
   "execution_count": 6,
   "id": "2d85269f-41bf-40f9-a326-c2ef844e2ee7",
   "metadata": {},
   "outputs": [
    {
     "name": "stdout",
     "output_type": "stream",
     "text": [
      "* Running on local URL:  http://127.0.0.1:7862\n",
      "* To create a public link, set `share=True` in `launch()`.\n"
     ]
    },
    {
     "data": {
      "text/html": [
       "<div><iframe src=\"http://127.0.0.1:7862/\" width=\"100%\" height=\"500\" allow=\"autoplay; camera; microphone; clipboard-read; clipboard-write;\" frameborder=\"0\" allowfullscreen></iframe></div>"
      ],
      "text/plain": [
       "<IPython.core.display.HTML object>"
      ]
     },
     "metadata": {},
     "output_type": "display_data"
    },
    {
     "data": {
      "text/plain": []
     },
     "execution_count": 6,
     "metadata": {},
     "output_type": "execute_result"
    }
   ],
   "source": [
    "import gradio as gr\n",
    "import matplotlib.pyplot as plt\n",
    "import matplotlib.image as mpimg\n",
    "import numpy as np\n",
    "# from my_projects.modeling.train import main as train_main\n",
    "# from my_projects.modeling.inference import run_inference\n",
    "from pathlib import Path\n",
    "\n",
    "\n",
    "calibration_path = Path(\"../reports/figures/calibration.png\")\n",
    "confusion_path = Path(\"../reports/figures/confusion_matrix.png\")\n",
    "\n",
    "def train_and_visualize(dataset_choice, model_choice, seed, epochs):\n",
    "    fig, axes = plt.subplots(1, 2, figsize=(10, 5))\n",
    "    \n",
    "    calib_img = mpimg.imread(calibration_path)\n",
    "    axes[0].imshow(calib_img)\n",
    "    axes[0].set_title(\"Calibration Plot\")\n",
    "    axes[0].axis('off')\n",
    "    \n",
    "    cm_img = mpimg.imread(confusion_path)\n",
    "    axes[1].imshow(cm_img)\n",
    "    axes[1].set_title(\"Confusion Matrix\")\n",
    "    axes[1].axis('off')\n",
    "    \n",
    "    metrics_text = (\n",
    "        f\"**Dataset:** {dataset_choice}\\n\"\n",
    "        f\"**Model:** {model_choice}\\n\"\n",
    "        f\"**Seed:** {seed}\\n\"\n",
    "        f\"**Epochs:** {epochs}\\n\"\n",
    "        f\"**Test Accuracy:** 0.85\"\n",
    "    )\n",
    "    \n",
    "    status = \"✅ Training simulated\"\n",
    "    \n",
    "    return fig, metrics_text, status\n",
    "\n",
    "with gr.Blocks(title=\"Animal Classification Dashboard\") as demo:\n",
    "    with gr.Tab(\"Data\"):\n",
    "        dataset_choice = gr.Dropdown([\"Full dataset\", \"Reduced dataset\"], value=\"Full dataset\", label=\"Dataset\")\n",
    "        seed = gr.Number(value=123, label=\"Random Seed\")\n",
    "    \n",
    "    with gr.Tab(\"Model\"):\n",
    "        model_choice = gr.Dropdown([\"VGG16\", \"VGG11\"], value=\"VGG16\", label=\"Model\")\n",
    "        epochs = gr.Number(value=5, label=\"Epochs\")\n",
    "    \n",
    "    with gr.Tab(\"Results\"):\n",
    "        plot_output = gr.Plot()\n",
    "        metrics_output = gr.Markdown()\n",
    "        status_output = gr.Markdown()\n",
    "    \n",
    "    inputs = [dataset_choice, model_choice, seed, epochs]\n",
    "    outputs = [plot_output, metrics_output, status_output]\n",
    "    \n",
    "    for input_component in inputs:\n",
    "        input_component.change(\n",
    "            fn=train_and_visualize,\n",
    "            inputs=inputs,\n",
    "            outputs=outputs\n",
    "        )\n",
    "    \n",
    "    demo.load(fn=train_and_visualize, inputs=inputs, outputs=outputs)\n",
    "\n",
    "demo.launch()\n"
   ]
  }
 ],
 "metadata": {
  "kernelspec": {
   "display_name": "UFC",
   "language": "python",
   "name": "ufc"
  },
  "language_info": {
   "codemirror_mode": {
    "name": "ipython",
    "version": 3
   },
   "file_extension": ".py",
   "mimetype": "text/x-python",
   "name": "python",
   "nbconvert_exporter": "python",
   "pygments_lexer": "ipython3",
   "version": "3.13.2"
  }
 },
 "nbformat": 4,
 "nbformat_minor": 5
}
